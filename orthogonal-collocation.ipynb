{
 "cells": [
  {
   "attachments": {},
   "cell_type": "markdown",
   "metadata": {},
   "source": [
    "# Orthogonal Collocation (OC)\n",
    "\n",
    "<div style=\"text-align: right\">S, Gautam (November 2022)</div>\n",
    "\n",
    "In orthogonal collcation we approximate the function $ y(x) $ as a sum of polynomial functions. \n",
    "\n",
    "$$ y(x) = \\sum_{i=1}^{N+2}{b_i P_{i-1}(x)} $$\n",
    "\n",
    "The coefficient $ b $ must be determined using the ODE BVP and the boundary conditions.\n",
    "\n",
    "Consider a weight factor $ W(x) $, since the polynomial is orthogonal it must obey the definition of the orthogonal polynomial."
   ]
  },
  {
   "attachments": {},
   "cell_type": "markdown",
   "metadata": {},
   "source": [
    "## Example Problem\n",
    "\n",
    "An isothermal TRAM (tubular reactor with axial mixing) with an irreversible second order reaction place is dscribed (cin chemical engineering) by: \n",
    "\n",
    "$$ \\frac{1}{6} \\frac{d^2 y}{d x^2} - \\frac{dy}{dx} - 2 y^2 = 0; 0 \\le x \\le 1 $$\n",
    "\n",
    "Given boundary conditions:\n",
    "\n",
    "$$ y' = 6(y - 1) \\text{ for } x = 0$$\n",
    "\n",
    "$$ y' = 0 \\text{ for } x = 1$$"
   ]
  },
  {
   "attachments": {},
   "cell_type": "markdown",
   "metadata": {},
   "source": [
    "## Solution\n",
    "\n",
    "At the internal points we have:\n",
    "\n",
    "$$ \\frac{1}{6} [\\sum_{N+2}^{j=1}{B_ij y_j}] - [\\sum_{j=1}^{N+2}{A_ij}{y_j}] - 2y_i^2 = 0 \\text{ for } i = 2,3 $$\n",
    "\n",
    "At the boundary we have:\n",
    "\n",
    "$$ [\\sum_{j=1}^{N+2}{A_1j}{y_j}] = 6(y_1 - 1) $$ \n",
    "(for x = 0)\n",
    "\n",
    "$$ [\\sum_{j=1}^{N+2}{A_4j}{y_j}] = 0  $$ \n",
    "(for x = 1)\n",
    "\n",
    "Given matrix,\n",
    "\n",
    "$$ A = \\begin{bmatrix} -7 && 8.196 && -2.196 && 1 \\\\ -2.732 && 1.732 && 1.732 && -0.7321 \\\\ 0.7321 && -1.732 && -1.732 && 2.732 \\\\ -1 && 2.196 && -8.196 && 7\\end{bmatrix} $$\n",
    "\n",
    "$$ B = \\begin{bmatrix} 24 && -37.18 && 25.18 && 12 \\\\ -16.39 && -24 && 12 && -4.392 \\\\ 4.392 && 12 && -24 && 16.39 \\\\ -12 && 25.18 && -37.18 && 24 \\end{bmatrix} $$\n",
    "\n",
    "Writing out the equations we have:\n",
    "\n",
    "$$ -7y_1 + 8.196y_2 - 2.196y_3 + y_4 = 6y_1 - 6 \\text { for } i = 1$$\n",
    "\n",
    "$$ \\frac{1}{6}(16.39y_1 - 24y_2 + 12y_3 - 4.392y_4) - (-2.732y_1 + 1.732y_2 + 1.732y_3 - 0.7321y_4) - 2y_2^2 = 0 \\text{ for } i = 2 $$\n",
    "\n",
    "$$ \\frac{1}{6}(-4.392y_1 - 12y_2 - 24y_3 + 16.39y_4) - (-0.7321y_1 - 1.732y_2 - 1.732y_3 + 2.7321y_4) - 2y_3^2 = 0 \\text{ for } i = 3 $$\n",
    "\n",
    "$$ -y_1 + 2.196y_2 - 8.196y_3 + 7y_4 = 0 \\text { for } i = 4$$"
   ]
  },
  {
   "attachments": {},
   "cell_type": "markdown",
   "metadata": {},
   "source": [
    "We get the matrix as:\n",
    "\n",
    "$$ \\begin{bmatrix} -13 && 8.196 && -2.196 && 1 \\\\   \\end{bmatrix} $$"
   ]
  },
  {
   "cell_type": "markdown",
   "metadata": {},
   "source": []
  }
 ],
 "metadata": {
  "kernelspec": {
   "display_name": "Python 3.10.7 64-bit",
   "language": "python",
   "name": "python3"
  },
  "language_info": {
   "name": "python",
   "version": "3.10.7"
  },
  "orig_nbformat": 4,
  "vscode": {
   "interpreter": {
    "hash": "26de051ba29f2982a8de78e945f0abaf191376122a1563185a90213a26c5da77"
   }
  }
 },
 "nbformat": 4,
 "nbformat_minor": 2
}
