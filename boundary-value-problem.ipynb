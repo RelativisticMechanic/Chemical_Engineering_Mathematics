{
 "cells": [
  {
   "cell_type": "markdown",
   "id": "e19b5738-54f4-44ac-ae1d-7e7372ad9beb",
   "metadata": {},
   "source": [
    "# Solving the Boundary Value Problem\n",
    "\n",
    "<div style=\"text-align: right\"><b>S, Gautam (120CH0057, November 22)</b></div>\n",
    "\n",
    "\n",
    "### Example Problem (6.3, Santosh K Gupta)\n",
    "\n",
    "The diffusion reaction in first order in a non-isothermal, porous, spherical catalyst particle is described by the following differential equation:\n",
    "\n",
    "$$\\frac{d^2 y}{dx^2} + \\frac{2}{x} \\frac{dy}{dx} = \\phi ^2 { y \\exp[\\gamma - \\frac{\\gamma}{1 - \\beta y + \\beta (1 - \\delta) y + \\beta \\delta}] }$$\n",
    "\n",
    "With the boundary conditions\n",
    "\n",
    "$$x = 0 : \\frac{dy}{dx} = 0 $$\n",
    "\n",
    "$$x = 1 : -\\frac{dy}{dx} = Bi_{m} [y - 1] $$\n",
    "\n",
    "Solve the given system for:\n",
    "\n",
    "$$\\beta = 0.6, \\gamma = 20, \\phi = 0.5, \\delta = 1, Bi_{m} \\rightarrow \\infty$$"
   ]
  },
  {
   "cell_type": "markdown",
   "id": "62a06256-6e94-4516-9f3e-4d041cd990f2",
   "metadata": {},
   "source": [
    "#### Deriving the matrix for the function approximation\n",
    "\n",
    "Let us assume that the function is a set of $ N + 1 $ discrete points from $i = 1 (x = 0), 2, 3, ..., N+1$ located a distance $ \\Delta x = \\frac{1}{N} $\n",
    " \n",
    "The derivative can be expressed in discretized points in the form:\n",
    "\n",
    "$$ \\frac{dy}{dx} \\approx \\frac{y_{i+1} - y_{i}}{\\Delta x} \\approx \\frac{y_{i+1} - y_{i-1}}{2\\Delta x} $$\n",
    "\n",
    "And the double derivative can be expressed as:\n",
    "\n",
    "$$ \\frac{d^2 y}{d x^2} \\approx \\frac{\\frac{y_{i+1} - y_i}{\\Delta x} - \\frac{y_i - y_{i-1}}{\\Delta x}}{\\Delta x} = \\frac{y_{i+1} - 2y_i + y_{i-1}}{(\\Delta x)^2}$$\n",
    "\n",
    "The differential equation can thusly be written as:\n",
    "\n",
    "$$\\frac{y_{i+1} - 2y_i + y_{i-1}}{(\\Delta x) ^2} + \\frac{2}{x_i}\\frac{y_{i+1} - y_{i-1}}{2\\Delta x} = \\phi^2 f(y_i) $$\n",
    "\n",
    "Here $ f(y_i) = y \\exp[\\gamma - \\frac{\\gamma}{1 - \\beta y + \\beta (1 - \\delta)y_{N+1} + \\beta \\delta}] $ & $ x_i = x_0 + (i - 1) \\Delta x $ where $ x_0 = 0 $\n",
    "\n",
    "Multiplying by $ (\\Delta x)^2 $ we have:\n",
    "\n",
    "$$({y_{i+1} - 2 y_i + y_{i-1}}) + \\frac{\\Delta x}{x_i} {(y_{i+1} - y_{i-1})} = \\phi ^ 2 f(y_i) (\\Delta x)^2$$\n",
    "\n",
    "Let $$ \\frac{\\Delta x}{x_i} = b_i $$\n"
   ]
  },
  {
   "cell_type": "markdown",
   "id": "da36ff7d",
   "metadata": {},
   "source": [
    "Thus, we have:\n",
    "\n",
    "$$ (y_{i+1} - 2 y_i + y_{i-1}) + b_i (y_{i+1} - y_{i-1}) = \\phi ^2 (\\Delta x)^2 f(y_i) $$"
   ]
  },
  {
   "cell_type": "markdown",
   "id": "9d5937de",
   "metadata": {},
   "source": [
    "$$ (1 + b_i)y_{i+1} - 2y_i + (1 - b_i) y_{i-1} = \\phi^2 (\\Delta x)^2 f(y_i) $$"
   ]
  },
  {
   "cell_type": "markdown",
   "id": "25c6a895",
   "metadata": {},
   "source": [
    "At x = 0, consider a hypothetical point, $ i = 0 $, and use the boundary condition at $ x = 0: \\frac{dy}{dx} = 0 $ to get the following equation.\n",
    "\n",
    "$$ \\frac{(y_2 - y_0)}{2 \\Delta x} = 0 $$"
   ]
  },
  {
   "cell_type": "markdown",
   "id": "51ff6714",
   "metadata": {},
   "source": [
    "Thus,\n",
    "\n",
    "$$ y_2 = y_0 $$"
   ]
  },
  {
   "cell_type": "markdown",
   "id": "b4e8860c",
   "metadata": {},
   "source": [
    "Recall the following differential equation:\n",
    "\n",
    "$$\\frac{y_{i+1} - 2y_i + y_{i-1}}{(\\Delta x) ^2} + \\frac{2}{x_i}\\frac{y_{i+1} - y_{i-1}}{2\\Delta x} = \\phi^2 f(y_i) $$\n"
   ]
  },
  {
   "cell_type": "markdown",
   "id": "023ba192",
   "metadata": {},
   "source": [
    "Putting $ i = 1 $ we get:\n",
    "\n",
    "$$\\frac{y_{2} - 2y_1 + y_{0}}{(\\Delta x) ^2} + \\frac{2}{x_1}\\frac{y_{2} - y_{0}}{2\\Delta x} = \\phi^2 f(y_1) $$"
   ]
  },
  {
   "cell_type": "markdown",
   "id": "44eec0d1",
   "metadata": {},
   "source": [
    "The issue here is that $ x_1 = 0 $, so we have to find the limit of the second term using L'Hopital's Rule:\n",
    "\n",
    "$$ \\frac{1}{x_i}\\frac{y_2 - y_0}{2 \\Delta x} = \\lim_{x \\rightarrow 0}{\\frac{\\frac{dy}{dx}}{x}} = \\frac{d^2y}{dx^2} = \\frac{y_2 - 2y_1 + y_0}{(\\Delta x)^2} $$"
   ]
  },
  {
   "cell_type": "markdown",
   "id": "5b68eb27",
   "metadata": {},
   "source": [
    "We thus have:\n",
    "\n",
    "$$\\frac{y_{2} - 2y_1 + y_{0}}{(\\Delta x) ^2} +  2 \\frac{y_{2} - 2y_1 + y_{0}}{(\\Delta x) ^2} = \\phi^2 f(y_1) $$"
   ]
  },
  {
   "cell_type": "markdown",
   "id": "e95ce98c",
   "metadata": {},
   "source": [
    "$$ 3 [\\frac{y_2 - 2 y_1 + y_0}{(\\Delta x)^2}] = \\phi^2 f(y_1) $$"
   ]
  },
  {
   "cell_type": "markdown",
   "id": "1b1a7faf",
   "metadata": {},
   "source": [
    "As $ y_2 = y_0 $,\n",
    "\n",
    "$$ 3(2y_2 - 2y_1) = (\\Delta x)^2 \\phi^2 f(y_1) $$"
   ]
  },
  {
   "cell_type": "markdown",
   "id": "16181be6",
   "metadata": {},
   "source": [
    "$$ 6y_2 - 6y_1 = \\phi^2 (\\Delta x)^2 f(y_1) $$"
   ]
  },
  {
   "cell_type": "markdown",
   "id": "4dfd5074",
   "metadata": {},
   "source": [
    "At $ x = 1 $ ($ i = N + 1 $), we have the boundary condition:\n",
    "\n",
    "$$ -\\frac{y_{N+2} - y_{N}}{2(\\Delta x)} = B i_m (y_{N+1}- 1) $$"
   ]
  },
  {
   "cell_type": "markdown",
   "id": "4b2dcc5a",
   "metadata": {},
   "source": [
    "$$ y_{N+2} = y_N - 2(\\Delta x)B i_m (y_{N+1} - 1) $$"
   ]
  },
  {
   "cell_type": "markdown",
   "id": "fc28cbfd",
   "metadata": {},
   "source": [
    "Substituting this condition along with $ i = N + 1 $ in the differential equation:\n",
    "\n",
    "$$ \\frac{y_{N+2} - 2 y_{N+1} + y_N}{(\\Delta x)^2} + \\frac{2}{1} \\frac{y_{N+2} - y_N}{2 \\Delta x} = \\phi^2 f(y_{N+1}) $$"
   ]
  },
  {
   "cell_type": "markdown",
   "id": "cf4bd56f",
   "metadata": {},
   "source": [
    "$$ \\frac{y_{N+2} - 2y_{N+1} + y_N}{(\\Delta x)^2} - \\frac{2(\\Delta x) B i_m (y_{N+1} - 1)}{2 \\Delta x} = \\phi^2 f(y_{N+1}) $$"
   ]
  },
  {
   "cell_type": "markdown",
   "id": "7f21a113",
   "metadata": {},
   "source": [
    "The next steps are simplification and rearrangment to get:\n",
    "\n",
    "$$ (-2 - 2B i_m (\\Delta x)[1+(\\Delta x)])y_{N+1} + 2y_N = \\phi^2 f(y_{N+1}) (\\Delta x)^2 - 2 B i_m (\\Delta x)[1 + (\\Delta x)] $$"
   ]
  },
  {
   "cell_type": "markdown",
   "id": "48547051",
   "metadata": {},
   "source": [
    "##### The Equations"
   ]
  },
  {
   "cell_type": "markdown",
   "id": "56f31f2b",
   "metadata": {},
   "source": [
    "Now we have the following set of equations:\n",
    "\n",
    "For $ i = 2 $ to $ i = N $ we have:\n",
    "\n",
    "$$ (1 + b_i)y_{i+1} - 2y_i + (1 - b_i) y_{i-1} = \\phi^2 (\\Delta x)^2 f(y_i) $$\n"
   ]
  },
  {
   "cell_type": "markdown",
   "id": "dbac81cc",
   "metadata": {},
   "source": [
    "And at $ i = 1 $ and $ i = N + 1 $ we have: \n",
    "\n",
    "$$ 6y_2 - 6y_1 = \\phi^2 (\\Delta x)^2 f(y_1) $$\n",
    "$$ (-2 - 2B i_m (\\Delta x)[1+(\\Delta x)])y_{N+1} + 2y_N = \\phi^2 f(y_{N+1}) (\\Delta x)^2 - 2 B i_m (\\Delta x)[1 + (\\Delta x)] $$"
   ]
  },
  {
   "cell_type": "markdown",
   "id": "2d10582c",
   "metadata": {},
   "source": [
    "#### The Matrix\n",
    "\n",
    "Finally we construct the matrix as follows:"
   ]
  },
  {
   "cell_type": "markdown",
   "id": "8fa585e3",
   "metadata": {},
   "source": [
    "$$\n",
    "\\begin{bmatrix} -6 & 6 & 0 & 0 & 0 & 0 & 0 & ... & 0 & 0 \\\\\n",
    "(1 - b_2) & -2 & (1 + b_2) & 0 & 0 & 0 & 0 & ... & 0 & 0 \\\\\n",
    "0 & (1 - b_3) & -2 & (1 + b_3) & 0 & 0 & 0 & 0 & ... & 0 \\\\ \n",
    "\\\\\n",
    "...\n",
    "\\\\\n",
    "\\\\\n",
    "\\\\\n",
    "0 & 0 & 0 & 0 & 0 & ... & 0 & (1 - b_N) & -2 & (1 + b_{N})\\\\\n",
    "0 & 0 & 0 & 0 & 0 & ... & 0 & 0 & 2 & (-2 - 2B i_m (\\Delta x)[1+(\\Delta x)])\\\\ \n",
    "\\end{bmatrix}\n",
    "\\begin{bmatrix}\n",
    "y_1\\\\\n",
    "y_2\\\\\n",
    "y_3\\\\\n",
    "y_4\\\\\n",
    "\\\\\n",
    "...\\\\\n",
    "\\\\\n",
    "\\\\\n",
    "\\\\\n",
    "y_N\\\\\n",
    "y_{N+1}\n",
    "\\end{bmatrix}\n",
    "=\n",
    "\\begin{bmatrix}\n",
    "\\phi^2 (\\Delta x)^2 f(y_1)\\\\\n",
    "\\phi^2 (\\Delta x)^2 f(y_2)\\\\\n",
    "\\phi^2 (\\Delta x)^2 f(y_3)\\\\\n",
    "\\phi^2 (\\Delta x)^2 f(y_4)\\\\\n",
    "\\\\\n",
    "\\\\\n",
    "...\n",
    "\\\\\n",
    "\\\\\n",
    "\\\\\n",
    "\\phi^2 (\\Delta x)^2 f(y_N)\\\\\n",
    "\\phi^2 f(y_{N+1}) (\\Delta x)^2 - 2 B i_m (\\Delta x)[1 + (\\Delta x)]\n",
    "\\end{bmatrix}\n",
    "$$"
   ]
  },
  {
   "cell_type": "markdown",
   "id": "3020af02",
   "metadata": {},
   "source": [
    "Let us assume $ N = 5 $ "
   ]
  },
  {
   "cell_type": "markdown",
   "id": "0601571e",
   "metadata": {},
   "source": [
    "$$ \\begin{bmatrix}\n",
    "-6 && 6 && 0 && 0 && 0 && 0 \\\\\n",
    "(1 - b_2) && -2 && (1 + b_2) && 0 && 0 && 0 \\\\\n",
    "0 && (1 - b_3) && -2 && (1 + b_3) && 0 && 0 \\\\\n",
    "0 && 0 && (1 - b_4) && -2 && (1 + b_4) && 0 \\\\\n",
    "0 && 0 && 0 && (1 - b_5) && -2 && (1 + b_5) \\\\\n",
    "0 && 0 && 0 && 0 && 2 && -2 - 2B i_m (\\Delta x)(1 + (\\Delta x)) \\\\\n",
    "\\end{bmatrix}\n",
    "\\begin{bmatrix}\n",
    "y_1\\\\\n",
    "y_2\\\\\n",
    "y_3\\\\\n",
    "y_4\\\\\n",
    "y_5\\\\\n",
    "y_6\\\\\n",
    "\\end{bmatrix}\n",
    "=\n",
    "\\begin{bmatrix}\n",
    "(0.5)^2 (\\Delta x)^2 f(y_1)\\\\\n",
    "(0.5)^2 (\\Delta x)^2 f(y_2)\\\\\n",
    "(0.5)^2 (\\Delta x)^2 f(y_3)\\\\\n",
    "(0.5)^2 (\\Delta x)^2 f(y_4)\\\\\n",
    "(0.5)^2 (\\Delta x)^2 f(y_5)\\\\\n",
    "(0.5)^2 (\\Delta x)^2 f(y_6) - 2Bi_m(\\Delta x)(1 + (\\Delta x))\\\\\n",
    "\\end{bmatrix}\n",
    "$$"
   ]
  },
  {
   "cell_type": "markdown",
   "id": "26f33974",
   "metadata": {},
   "source": [
    "As $ B i_m \\rightarrow \\infty $, $ y_6 = 1 $, last row is eliminated."
   ]
  },
  {
   "cell_type": "markdown",
   "id": "6a807b8e",
   "metadata": {},
   "source": [
    "$$ \\begin{bmatrix}\n",
    "-6 && 6 && 0 && 0 && 0\\\\\n",
    "(1 - b_2) && -2 && (1 + b_2) && 0 && 0\\\\\n",
    "0 && (1 - b_3) && -2 && (1 + b_3) && 0\\\\\n",
    "0 && 0 && (1 - b_4) && -2 && (1 + b_4)\\\\\n",
    "0 && 0 && 0 && (1 - b_5) && -2\\\\\n",
    "\\end{bmatrix}\n",
    "\\begin{bmatrix}\n",
    "y_1\\\\\n",
    "y_2\\\\\n",
    "y_3\\\\\n",
    "y_4\\\\\n",
    "y_5\\\\\n",
    "\\end{bmatrix}\n",
    "=\n",
    "\\begin{bmatrix}\n",
    "(0.5)^2 (\\Delta x)^2 f(y_1)\\\\\n",
    "(0.5)^2 (\\Delta x)^2 f(y_2)\\\\\n",
    "(0.5)^2 (\\Delta x)^2 f(y_3)\\\\\n",
    "(0.5)^2 (\\Delta x)^2 f(y_4)\\\\\n",
    "(0.5)^2 (\\Delta x)^2 f(y_5) - (1 + b_5)\\\\\n",
    "\\end{bmatrix}\n",
    "$$"
   ]
  },
  {
   "cell_type": "markdown",
   "id": "42d90b1a",
   "metadata": {},
   "source": [
    "As $ N = 5 $, $ \\Delta x = 0.2 $. And $ b_k = \\frac{(\\Delta x)}{x_k} $ "
   ]
  },
  {
   "cell_type": "markdown",
   "id": "afb993a1",
   "metadata": {},
   "source": [
    "$$ \\begin{bmatrix}\n",
    "-6 && 6 && 0 && 0 && 0\\\\\n",
    "(1 - 1) && -2 && (1 + 1) && 0 && 0\\\\\n",
    "0 && (1 - \\frac{1}{2}) && -2 && (1 + \\frac{1}{2}) && 0\\\\\n",
    "0 && 0 && (1 - \\frac{1}{3}) && -2 && (1 + \\frac{1}{3})\\\\\n",
    "0 && 0 && 0 && (1 - \\frac{1}{4}) && -2\\\\\n",
    "\\end{bmatrix}\n",
    "\\begin{bmatrix}\n",
    "y_1\\\\\n",
    "y_2\\\\\n",
    "y_3\\\\\n",
    "y_4\\\\\n",
    "y_5\\\\\n",
    "\\end{bmatrix}\n",
    "=\n",
    "\\begin{bmatrix}\n",
    "(0.5)^2 (0.2)^2 f(y_1)\\\\\n",
    "(0.5)^2 (0.2)^2 f(y_2)\\\\\n",
    "(0.5)^2 (0.2)^2 f(y_3)\\\\\n",
    "(0.5)^2 (0.2)^2 f(y_4)\\\\\n",
    "(0.5)^2 (0.2)^2 f(y_5) - (1 + \\frac{1}{4})\\\\\n",
    "\\end{bmatrix}\n",
    "$$"
   ]
  },
  {
   "cell_type": "markdown",
   "id": "86c1b4c3",
   "metadata": {},
   "source": [
    "$$ \\begin{bmatrix}\n",
    "-6 && 6 && 0 && 0 && 0\\\\\n",
    "0 && -2 && 2 && 0 && 0\\\\\n",
    "0 && \\frac{1}{2} && -2 && \\frac{3}{2} && 0\\\\\n",
    "0 && 0 && \\frac{2}{3} && -2 && \\frac{4}{3}\\\\\n",
    "0 && 0 && 0 && \\frac{3}{4} && -2\n",
    "\\end{bmatrix}\n",
    "\\begin{bmatrix}\n",
    "y_1\\\\\n",
    "y_2\\\\\n",
    "y_3\\\\\n",
    "y_4\\\\\n",
    "y_5\\\\\n",
    "\\end{bmatrix}\n",
    "=\n",
    "\\begin{bmatrix}\n",
    "(0.01)f(y_1)\\\\\n",
    "(0.01)f(y_2)\\\\\n",
    "(0.01)f(y_3)\\\\\n",
    "(0.01)f(y_4)\\\\\n",
    "(0.01)f(y_5) - \\frac{5}{4}\\\\\n",
    "\\end{bmatrix}\n",
    "$$"
   ]
  },
  {
   "cell_type": "markdown",
   "id": "859d9455",
   "metadata": {},
   "source": [
    "### Python Code for Solving the BVP\n",
    "\n",
    "Solving the equation using Python (and Gauss Seidel) and plotting result using Matplotlib."
   ]
  },
  {
   "cell_type": "code",
   "execution_count": 11,
   "id": "521c9990",
   "metadata": {},
   "outputs": [
    {
     "name": "stdout",
     "output_type": "stream",
     "text": [
      "[0.929792342502899, 0.9332703808282781, 0.9433478964985207, 0.9588442866647222, 0.9782370936097904, 1]\n"
     ]
    },
    {
     "data": {
      "image/png": "[encoded data removed]",
      "text/plain": [
       "<Figure size 640x480 with 1 Axes>"
      ]
     },
     "metadata": {},
     "output_type": "display_data"
    }
   ],
   "source": [
    "import numpy as np\n",
    "import math\n",
    "import matplotlib.pyplot as plt\n",
    "\n",
    "%matplotlib inline\n",
    "def f(y):\n",
    "    gamma = 20\n",
    "    delta = 1\n",
    "    beta = 0.6\n",
    "    return y * math.exp(gamma - (gamma / (1 - beta * y + beta*delta)))\n",
    "\n",
    "A = np.array([  [-6, 6, 0, 0, 0], \n",
    "                [0, -2, 2, 0, 0], \n",
    "                [0, 0.5, -2, 1.5, 0], \n",
    "                [0, 0, (2/3), -2, (4/3)], \n",
    "                [0, 0, 0, 0.75, -2]])\n",
    "\n",
    "# Calculate inverse of matrix\n",
    "invA = np.linalg.inv(A)\n",
    "\n",
    "y = [0, 0, 0, 0, 0]\n",
    "\n",
    "# Conduct Gauss-Seidel for 1000 iterations\n",
    "for i in range(0, 1000):\n",
    "    F = np.array([[0.01 * f(y[0])], \n",
    "                    [0.01 * f(y[1])],\n",
    "                    [0.01 * f(y[2])],\n",
    "                    [0.01 * f(y[3])],\n",
    "                    [0.01 * f(y[4]) - (5/4)]])\n",
    "    y_new = np.matmul(invA, F)\n",
    "    y[0] = y_new[0][0]\n",
    "    y[1] = y_new[1][0]\n",
    "    y[2] = y_new[2][0]\n",
    "    y[3] = y_new[3][0]\n",
    "    y[4] = y_new[4][0]\n",
    "\n",
    "t = [0, 0.2, 0.4, 0.6, 0.8, 1.0]\n",
    "y = [y[0], y[1], y[2], y[3], y[4], 1]\n",
    "print(y)\n",
    "plt.ylim(bottom=0, top=1.0)\n",
    "plt.plot(t, y)\n",
    "plt.show()"
   ]
  },
  {
   "cell_type": "markdown",
   "id": "856a8347",
   "metadata": {},
   "source": []
  }
 ],
 "metadata": {
  "kernelspec": {
   "display_name": "Python 3 (ipykernel)",
   "language": "python",
   "name": "python3"
  },
  "language_info": {
   "codemirror_mode": {
    "name": "ipython",
    "version": 3
   },
   "file_extension": ".py",
   "mimetype": "text/x-python",
   "name": "python",
   "nbconvert_exporter": "python",
   "pygments_lexer": "ipython3",
   "version": "3.11.0"
  },
  "vscode": {
   "interpreter": {
    "hash": "26de051ba29f2982a8de78e945f0abaf191376122a1563185a90213a26c5da77"
   }
  }
 },
 "nbformat": 4,
 "nbformat_minor": 5
}
