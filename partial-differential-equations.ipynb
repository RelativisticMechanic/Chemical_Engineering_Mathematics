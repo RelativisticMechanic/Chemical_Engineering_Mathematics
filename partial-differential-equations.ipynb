{
 "cells": [
  {
   "cell_type": "markdown",
   "metadata": {},
   "source": [
    "## Solution of Partial Differential Equations using Finite Differences"
   ]
  },
  {
   "cell_type": "markdown",
   "metadata": {},
   "source": [
    "<div style=\"text-align: right\">S Gautam, November 2022</div>"
   ]
  },
  {
   "cell_type": "markdown",
   "metadata": {},
   "source": [
    "## Example Problems\n",
    "\n",
    "### Diffusion Problem of Porous Catalyst\n",
    "\n",
    "In chemical engineering the unsteady reaction diffiusion problem in a spherical porous catalyst particle is described by:"
   ]
  },
  {
   "cell_type": "markdown",
   "metadata": {},
   "source": [
    "$$ \\frac{\\partial c}{\\partial t} = \\frac{1}{r^2} \\frac{\\partial}{\\partial r} (Dr^2 \\frac{\\partial c}{\\partial r}) - \\mathbb{R}(c) $$"
   ]
  },
  {
   "cell_type": "markdown",
   "metadata": {},
   "source": [
    "$$ r = 0 : \\frac{\\partial c}{\\partial r} = 0 $$"
   ]
  },
  {
   "cell_type": "markdown",
   "metadata": {},
   "source": [
    "$$ r = R : -D \\frac{\\partial c}{\\partial r} = k_s (c - c_0) $$"
   ]
  },
  {
   "cell_type": "markdown",
   "metadata": {},
   "source": [
    "$$ t = 0 : c = 0 $$"
   ]
  },
  {
   "cell_type": "markdown",
   "metadata": {},
   "source": [
    "To solve this problen we will have to discretize the the position variable ($r$). After this, we integrate along time axis using Euler or Crank-Nicholson."
   ]
  },
  {
   "cell_type": "markdown",
   "metadata": {},
   "source": [
    "### Tubular Reactor"
   ]
  },
  {
   "cell_type": "markdown",
   "metadata": {},
   "source": [
    "The steady state emodel equations for a tubular reactor with the reaction mass flowing laminarly are: \n",
    "\n",
    "$$ 2 \\bar v (1 - \\frac{r^2}{R^2}) \\frac{\\partial c}{\\partial z} = \\mathbb{R} (c, T) $$"
   ]
  },
  {
   "cell_type": "markdown",
   "metadata": {},
   "source": [
    "$$ 2\\bar v (1 - \\frac{r^2}{R^2}) \\rho C_p \\frac{\\partial T}{\\partial z} = \\frac{k}{r}\\frac{\\partial}{\\partial r}(r \\frac{\\partial T}{\\partial r}) + \\rho(-\\Delta H_r) \\mathbb{R}(c, t) $$"
   ]
  },
  {
   "cell_type": "markdown",
   "metadata": {},
   "source": [
    "Boundary conditions are as follows:\n",
    "\n",
    "$$ r = 0 : \\frac{\\partial T}{\\partial r} = 0 $$"
   ]
  },
  {
   "cell_type": "markdown",
   "metadata": {},
   "source": [
    "$$ r = R : -k \\frac{\\partial T}{\\partial r} = U(T - T_j) $$"
   ]
  },
  {
   "cell_type": "markdown",
   "metadata": {},
   "source": [
    "Initial value conditions are as follows:\n",
    "\n",
    "$$ z = 0 : c = c_0, T = T_0 $$"
   ]
  },
  {
   "cell_type": "markdown",
   "metadata": {},
   "source": [
    "Here $ c $ and $ T $ are the concentration of the reactant and the temperature, $ \\bar v $ is the mean velocity of the reaction mass in the tubular reactor of radius $ R, r $ and $ z $ are the radial and axial locations, $ \\mathbb{R} (c, T) $ is the rate of depletion of the reactant ($ [ = ck^{*}_{0} \\exp{(-\\frac{E}{RT})} ] $  for a first order irreversible reaction, A $\\rightarrow$ products )"
   ]
  },
  {
   "cell_type": "markdown",
   "metadata": {},
   "source": [
    "## Problem 1"
   ]
  },
  {
   "cell_type": "markdown",
   "metadata": {},
   "source": [
    "Apply the Finite Difference technique and the Crank-Nicholson method to the dimensionless diffusion equation:\n",
    "\n",
    "$$ \\frac{\\partial c}{\\partial t} = \\frac{\\partial ^2 c}{\\partial x^2} $$"
   ]
  },
  {
   "cell_type": "markdown",
   "metadata": {},
   "source": [
    "With the conditions:\n",
    "\n",
    "$$ c(0, t) = c(1,t) = 0 $$\n",
    "\n",
    "$$ c(x, 0) = 1 $$"
   ]
  },
  {
   "cell_type": "markdown",
   "metadata": {},
   "source": [
    "We discretize $\\frac{\\partial c}{\\partial t}$ as:\n",
    "\n",
    "$$ \\frac{\\partial c_{ij}}{\\partial t} = \\frac{c_{i, j+1} - c_{i, j}}{\\Delta t} $$\n",
    "\n",
    "And $\\frac{\\partial^2 c}{\\partial x^2}$ as:\n",
    "\n",
    "$$ \\frac{\\partial^2 c_{ij}}{\\partial x^2} = \\frac{c_{i+1,j} - 2 c_{ij} + c_{i-1,j}}{(\\Delta x)^2} $$\n",
    "\n",
    "The equation now becometh the matrix equation:"
   ]
  },
  {
   "cell_type": "markdown",
   "metadata": {},
   "source": [
    "$$\n",
    "\\begin{bmatrix}\n",
    "\\frac{dc_{2}}{dt}\\\\\n",
    "\\frac{dc_{3}}{dt}\\\\\n",
    "\\frac{dc_{4}}{dt}\\\\\n",
    "...\\\\\n",
    "\\frac{dc_{N}}{dt}\\\\\n",
    "\\end{bmatrix}\n",
    "=\n",
    "\\frac{1}{(\\Delta x)^2}\n",
    "\\begin{bmatrix}\n",
    "-2 && 1 && 0 && 0 && 0 && ... && 0 && 0 && 0\\\\\n",
    "0 && 1 && -2 && 1 && 0 && ... && 0 && 0 && 0 \\\\\n",
    "0 && 0 && 1 && -2 && 1 && ... && 0 && 0 && 0 \\\\\n",
    "...\\\\\n",
    "0 && 0 && 0 && 0 && 0 && ... && 0 && 1 && -2 \\\\\n",
    "\\end{bmatrix}\n",
    "\\begin{bmatrix}\n",
    "c_2 \\\\\n",
    "c_3 \\\\\n",
    "c_4 \\\\\n",
    "... \\\\\n",
    "c_N\n",
    "\\end{bmatrix}\n",
    "$$"
   ]
  },
  {
   "cell_type": "markdown",
   "metadata": {},
   "source": [
    "We can say that:\n",
    "\n",
    "$$ \\frac{c_{i, j+1} - c_{i, j}}{\\Delta t}  =  \\frac{c_{i+1,j} - 2 c_{ij} + c_{i-1,j}}{(\\Delta x)^2}$$\n",
    "\n",
    "$$ c_{i, j+1} = c_{i, j} + \\frac{\\Delta t}{(\\Delta x)^2}({c_{i+1,j} - 2 c_{ij} + c_{i-1,j}}) $$\n",
    "\n",
    "This is called the <i>Euler scheme</i>, the <i>Crank-Nicholson scheme</i> uses the average of both the current and the next time step and is an implicit equation. We'll stick with the Euler scheme for this simple problem.\n"
   ]
  },
  {
   "cell_type": "markdown",
   "metadata": {},
   "source": [
    "This essentially amounts to solving the matrix equation:\n",
    "\n",
    "$$\n",
    "\\begin{bmatrix}\n",
    "c_{2, j+1}\\\\\n",
    "c_{3, j+1}\\\\\n",
    "c_{4, j+1}\\\\\n",
    "...\\\\\n",
    "c_{N, j+1}\\\\\n",
    "\\end{bmatrix}\n",
    "=\n",
    "\\begin{bmatrix}\n",
    "c_{2, j}\\\\\n",
    "c_{3, j}\\\\\n",
    "c_{4, j}\\\\\n",
    "...\\\\\n",
    "c_{N, j}\\\\\n",
    "\\end{bmatrix}\n",
    "+\n",
    "\\frac{\\Delta t}{(\\Delta x)^2}\n",
    "\\begin{bmatrix}\n",
    "-2 && 1 && 0 && 0 && 0 && ... && 0 && 0 && 0\\\\\n",
    "1 && -2 && 1 && 0 && 0 && ... && 0 && 0 && 0 \\\\\n",
    "0 && 1 && -2 && 1 && 0 && ... && 0 && 0 && 0 \\\\\n",
    "...\\\\\n",
    "0 && 0 && 0 && 0 && 0 && ... && 0 && 1 && -2 \\\\\n",
    "\\end{bmatrix}\n",
    "\\begin{bmatrix}\n",
    "c_{2, j} \\\\\n",
    "c_{3, j} \\\\\n",
    "c_{4, j} \\\\\n",
    "... \\\\\n",
    "c_{N, j}\n",
    "\\end{bmatrix}\n",
    "$$"
   ]
  },
  {
   "cell_type": "markdown",
   "metadata": {},
   "source": [
    "## Algorithm\n",
    "\n",
    "1. Create 2 dimensional grid with appropriate ${\\Delta t}$ and ${\\Delta x}$. \n",
    "2. Initialize boundary conditions at $t = 0$.\n",
    "3. Solve the equation for each point looping through x, and t."
   ]
  },
  {
   "cell_type": "code",
   "execution_count": 40,
   "metadata": {},
   "outputs": [
    {
     "data": {
      "text/plain": [
       "[<matplotlib.lines.Line2D at 0x239b8e1f2d0>]"
      ]
     },
     "execution_count": 40,
     "metadata": {},
     "output_type": "execute_result"
    },
    {
     "data": {
      "image/png": "[encoded data removed]",
      "text/plain": [
       "<Figure size 640x480 with 1 Axes>"
      ]
     },
     "metadata": {},
     "output_type": "display_data"
    }
   ],
   "source": [
    "import numpy as np\n",
    "import matplotlib.pyplot as plt\n",
    "\n",
    "N = 10\n",
    "\n",
    "delta_x = (1)/N\n",
    "delta_t = 1/1000.0\n",
    "\n",
    "# we want to see the result after one second\n",
    "final_t = 0.1\n",
    "t_iterations = int(final_t / delta_t)\n",
    "\n",
    "solutions = []\n",
    "c = np.array([1 for _ in range(N - 1)])\n",
    "\n",
    "def construct_tdm(N):\n",
    "    # Construct tridiagonal matrix\n",
    "    tdm = np.zeros((N-1, N-1))\n",
    "\n",
    "    for i in range(N-1):\n",
    "        for j in range(N-1):\n",
    "            if((i - 1) == j and i != 0 and i < N - 2):\n",
    "                tdm[i][j] = 1\n",
    "                tdm[i][j+1] = -2\n",
    "                tdm[i][j+2] = 1\n",
    "\n",
    "    tdm[0][0] = -2\n",
    "    tdm[0][1] = 1\n",
    "    tdm[N-2][N-3] = 1\n",
    "    tdm[N-2][N-2] = -2\n",
    "    return tdm\n",
    "\n",
    "for t in range(0, t_iterations):\n",
    "    c = c + ((delta_t) / (delta_x)**2) * np.matmul(construct_tdm(N), c)\n",
    "    solutions.append(c)\n",
    "\n",
    "plt.plot([k for k in range(0, 9)], solutions[0])\n",
    "plt.plot([k for k in range(0, 9)], solutions[-1])\n",
    "plt.plot([k for k in range(0, 9)], solutions[int(t_iterations/2)])"
   ]
  },
  {
   "cell_type": "code",
   "execution_count": null,
   "metadata": {},
   "outputs": [],
   "source": []
  }
 ],
 "metadata": {
  "kernelspec": {
   "display_name": "Python 3 (ipykernel)",
   "language": "python",
   "name": "python3"
  },
  "language_info": {
   "codemirror_mode": {
    "name": "ipython",
    "version": 3
   },
   "file_extension": ".py",
   "mimetype": "text/x-python",
   "name": "python",
   "nbconvert_exporter": "python",
   "pygments_lexer": "ipython3",
   "version": "3.11.0"
  },
  "vscode": {
   "interpreter": {
    "hash": "26de051ba29f2982a8de78e945f0abaf191376122a1563185a90213a26c5da77"
   }
  }
 },
 "nbformat": 4,
 "nbformat_minor": 2
}
